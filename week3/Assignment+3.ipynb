{
 "cells": [
  {
   "cell_type": "markdown",
   "metadata": {},
   "source": [
    "---\n",
    "\n",
    "_You are currently looking at **version 1.5** of this notebook. To download notebooks and datafiles, as well as get help on Jupyter notebooks in the Coursera platform, visit the [Jupyter Notebook FAQ](https://www.coursera.org/learn/python-data-analysis/resources/0dhYG) course resource._\n",
    "\n",
    "---"
   ]
  },
  {
   "cell_type": "markdown",
   "metadata": {},
   "source": [
    "# Assignment 3 - More Pandas\n",
    "This assignment requires more individual learning then the last one did - you are encouraged to check out the [pandas documentation](http://pandas.pydata.org/pandas-docs/stable/) to find functions or methods you might not have used yet, or ask questions on [Stack Overflow](http://stackoverflow.com/) and tag them as pandas and python related. And of course, the discussion forums are open for interaction with your peers and the course staff."
   ]
  },
  {
   "cell_type": "markdown",
   "metadata": {},
   "source": [
    "### Question 1 (20%)\n",
    "Load the energy data from the file `Energy Indicators.xls`, which is a list of indicators of [energy supply and renewable electricity production](Energy%20Indicators.xls) from the [United Nations](http://unstats.un.org/unsd/environment/excel_file_tables/2013/Energy%20Indicators.xls) for the year 2013, and should be put into a DataFrame with the variable name of **energy**.\n",
    "\n",
    "Keep in mind that this is an Excel file, and not a comma separated values file. Also, make sure to exclude the footer and header information from the datafile. The first two columns are unneccessary, so you should get rid of them, and you should change the column labels so that the columns are:\n",
    "\n",
    "`['Country', 'Energy Supply', 'Energy Supply per Capita', '% Renewable']`\n",
    "\n",
    "Convert `Energy Supply` to gigajoules (there are 1,000,000 gigajoules in a petajoule). For all countries which have missing data (e.g. data with \"...\") make sure this is reflected as `np.NaN` values.\n",
    "\n",
    "Rename the following list of countries (for use in later questions):\n",
    "\n",
    "```\"Republic of Korea\": \"South Korea\",\n",
    "\"United States of America\": \"United States\",\n",
    "\"United Kingdom of Great Britain and Northern Ireland\": \"United Kingdom\",\n",
    "\"China, Hong Kong Special Administrative Region\": \"Hong Kong\"```\n",
    "\n",
    "There are also several countries with numbers and/or parenthesis in their name. Be sure to remove these, \n",
    "\n",
    "e.g. \n",
    "\n",
    "`'Bolivia (Plurinational State of)'` should be `'Bolivia'`, \n",
    "\n",
    "`'Switzerland17'` should be `'Switzerland'`.\n",
    "\n",
    "<br>\n",
    "\n",
    "Next, load the GDP data from the file `world_bank.csv`, which is a csv containing countries' GDP from 1960 to 2015 from [World Bank](http://data.worldbank.org/indicator/NY.GDP.MKTP.CD). Call this DataFrame **GDP**. \n",
    "\n",
    "Make sure to skip the header, and rename the following list of countries:\n",
    "\n",
    "```\"Korea, Rep.\": \"South Korea\", \n",
    "\"Iran, Islamic Rep.\": \"Iran\",\n",
    "\"Hong Kong SAR, China\": \"Hong Kong\"```\n",
    "\n",
    "<br>\n",
    "\n",
    "Finally, load the [Sciamgo Journal and Country Rank data for Energy Engineering and Power Technology](http://www.scimagojr.com/countryrank.php?category=2102) from the file `scimagojr-3.xlsx`, which ranks countries based on their journal contributions in the aforementioned area. Call this DataFrame **ScimEn**.\n",
    "\n",
    "Join the three datasets: GDP, Energy, and ScimEn into a new dataset (using the intersection of country names). Use only the last 10 years (2006-2015) of GDP data and only the top 15 countries by Scimagojr 'Rank' (Rank 1 through 15). \n",
    "\n",
    "The index of this DataFrame should be the name of the country, and the columns should be ['Rank', 'Documents', 'Citable documents', 'Citations', 'Self-citations',\n",
    "       'Citations per document', 'H index', 'Energy Supply',\n",
    "       'Energy Supply per Capita', '% Renewable', '2006', '2007', '2008',\n",
    "       '2009', '2010', '2011', '2012', '2013', '2014', '2015'].\n",
    "\n",
    "*This function should return a DataFrame with 20 columns and 15 entries.*"
   ]
  },
  {
   "cell_type": "code",
   "execution_count": 1,
   "metadata": {},
   "outputs": [
    {
     "name": "stderr",
     "output_type": "stream",
     "text": [
      "/Users/vishalmishra/anaconda/envs/py36/lib/python3.6/importlib/_bootstrap.py:219: RuntimeWarning: numpy.dtype size changed, may indicate binary incompatibility. Expected 96, got 88\n",
      "  return f(*args, **kwds)\n",
      "/Users/vishalmishra/anaconda/envs/py36/lib/python3.6/importlib/_bootstrap.py:219: RuntimeWarning: numpy.dtype size changed, may indicate binary incompatibility. Expected 96, got 88\n",
      "  return f(*args, **kwds)\n"
     ]
    }
   ],
   "source": [
    "import pandas as pd\n",
    "from functools import reduce\n",
    "pd.set_option('max_columns',100)\n",
    "pd.set_option('max_rows',300)"
   ]
  },
  {
   "cell_type": "code",
   "execution_count": 25,
   "metadata": {
    "umich_part_id": "009",
    "umich_partlist_id": "003"
   },
   "outputs": [
    {
     "name": "stdout",
     "output_type": "stream",
     "text": [
      "    Rank  Documents  Citable documents  Citations  Self-citations  \\\n",
      "0      1     127050             126767     597237          411683   \n",
      "1      2      96661              94747     792274          265436   \n",
      "2      3      30504              30287     223024           61554   \n",
      "3      4      20944              20357     206091           37874   \n",
      "4      5      18534              18301      34266           12422   \n",
      "5      6      17899              17620     215003           40930   \n",
      "6      7      17027              16831     140566           27426   \n",
      "7      8      15005              14841     128763           37209   \n",
      "8      9      13153              12973     130632           28601   \n",
      "9     10      11983              11923     114675           22595   \n",
      "10    11      10964              10794     111850           26661   \n",
      "11    12       9428               9330     123336           23964   \n",
      "12    13       8896               8819      57470           19125   \n",
      "13    14       8831               8725      90765           15606   \n",
      "14    15       8668               8596      60702           14396   \n",
      "\n",
      "    Citations per document  H index  Energy Supply  Energy Supply per Capita  \\\n",
      "0                     4.70      138       0.127191                      93.0   \n",
      "1                     8.20      230       0.090838                     286.0   \n",
      "2                     7.31      134       0.018984                     149.0   \n",
      "3                     9.84      139       0.007920                     124.0   \n",
      "4                     1.85       57       0.030709                     214.0   \n",
      "5                    12.01      149       0.010431                     296.0   \n",
      "6                     8.26      126       0.013261                     165.0   \n",
      "7                     8.58      115       0.033195                      26.0   \n",
      "8                     9.93      114       0.010597                     166.0   \n",
      "9                     9.57      104       0.011007                     221.0   \n",
      "10                   10.20      106       0.006530                     109.0   \n",
      "11                   13.08      115       0.004923                     106.0   \n",
      "12                    6.46       72       0.009172                     119.0   \n",
      "13                   10.28      107       0.005386                     231.0   \n",
      "14                    7.00       86       0.012149                      59.0   \n",
      "\n",
      "    % Renewable          2006          2007          2008          2009  \\\n",
      "0     19.754910  3.992331e+12  4.559041e+12  4.997775e+12  5.459247e+12   \n",
      "1     11.570980  1.479230e+13  1.505540e+13  1.501149e+13  1.459484e+13   \n",
      "2     10.232820  5.496542e+12  5.617036e+12  5.558527e+12  5.251308e+12   \n",
      "3     10.600470  2.419631e+12  2.482203e+12  2.470614e+12  2.367048e+12   \n",
      "4     17.288680  1.385793e+12  1.504071e+12  1.583004e+12  1.459199e+12   \n",
      "5     61.945430  1.564469e+12  1.596740e+12  1.612713e+12  1.565145e+12   \n",
      "6     17.901530  3.332891e+12  3.441561e+12  3.478809e+12  3.283340e+12   \n",
      "7     14.969080  1.265894e+12  1.374865e+12  1.428361e+12  1.549483e+12   \n",
      "8     17.020280  2.607840e+12  2.669424e+12  2.674637e+12  2.595967e+12   \n",
      "9      2.279353  9.410199e+11  9.924316e+11  1.020510e+12  1.027730e+12   \n",
      "10    33.667230  2.202170e+12  2.234627e+12  2.211154e+12  2.089938e+12   \n",
      "11    37.968590  1.414823e+12  1.468146e+12  1.484530e+12  1.431475e+12   \n",
      "12     5.707721  3.895523e+11  4.250646e+11  4.289909e+11  4.389208e+11   \n",
      "13    11.810810  1.021939e+12  1.060340e+12  1.099644e+12  1.119654e+12   \n",
      "14    69.648030  1.845080e+12  1.957118e+12  2.056809e+12  2.054215e+12   \n",
      "\n",
      "            2010          2011          2012          2013          2014  \\\n",
      "0   6.039659e+12  6.612490e+12  7.124978e+12  7.672448e+12  8.230121e+12   \n",
      "1   1.496437e+13  1.520402e+13  1.554216e+13  1.577367e+13  1.615662e+13   \n",
      "2   5.498718e+12  5.473738e+12  5.569102e+12  5.644659e+12  5.642884e+12   \n",
      "3   2.403504e+12  2.450911e+12  2.479809e+12  2.533370e+12  2.605643e+12   \n",
      "4   1.524917e+12  1.589943e+12  1.645876e+12  1.666934e+12  1.678709e+12   \n",
      "5   1.613406e+12  1.664087e+12  1.693133e+12  1.730688e+12  1.773486e+12   \n",
      "6   3.417298e+12  3.542371e+12  3.556724e+12  3.567317e+12  3.624386e+12   \n",
      "7   1.708459e+12  1.821872e+12  1.924235e+12  2.051982e+12  2.200617e+12   \n",
      "8   2.646995e+12  2.702032e+12  2.706968e+12  2.722567e+12  2.729632e+12   \n",
      "9   1.094499e+12  1.134796e+12  1.160809e+12  1.194429e+12  1.234340e+12   \n",
      "10  2.125185e+12  2.137439e+12  2.077184e+12  2.040871e+12  2.033868e+12   \n",
      "11  1.431673e+12  1.417355e+12  1.380216e+12  1.357139e+12  1.375605e+12   \n",
      "12  4.677902e+11  4.853309e+11  4.532569e+11  4.445926e+11  4.639027e+11   \n",
      "13  1.142251e+12  1.169431e+12  1.211913e+12  1.241484e+12  1.272520e+12   \n",
      "14  2.208872e+12  2.295245e+12  2.339209e+12  2.409740e+12  2.412231e+12   \n",
      "\n",
      "            2015  \n",
      "0   8.797999e+12  \n",
      "1   1.654857e+13  \n",
      "2   5.669563e+12  \n",
      "3   2.666333e+12  \n",
      "4   1.616149e+12  \n",
      "5   1.792609e+12  \n",
      "6   3.685556e+12  \n",
      "7   2.367206e+12  \n",
      "8   2.761185e+12  \n",
      "9   1.266580e+12  \n",
      "10  2.049316e+12  \n",
      "11  1.419821e+12  \n",
      "12           NaN  \n",
      "13  1.301251e+12  \n",
      "14  2.319423e+12  \n"
     ]
    }
   ],
   "source": [
    "def answer_one():\n",
    "    energy = pd.read_excel('Energy Indicators.xls', sheet_name='Energy', header=None, \n",
    "                                                                 names = ['Country', 'Energy Supply', 'Energy Supply per Capita', '% Renewable']\n",
    "                                                                 ,index_col=None, \n",
    "                                                                 usecols=list(range(2,6)), skiprows=list(range(18)), \n",
    "                                                                 nrows=None, na_values='...', \n",
    "                                                                 skipfooter=38)\n",
    "    energy['Energy Supply'] = energy['Energy Supply']/1000000\n",
    "    energy['Country'] = energy['Country'].str.replace('\\d+','')\n",
    "    energy['Country'] = energy['Country'].str.replace(r\"\\(.*\\)\",\"\")\n",
    "    energy['Country'] = energy['Country'].str.strip()\n",
    "    country_rename = {\"Republic of Korea\": \"South Korea\",\n",
    "                            \"United States of America\": \"United States\",\n",
    "                            \"United Kingdom of Great Britain and Northern Ireland\": \"United Kingdom\",\n",
    "                            \"China, Hong Kong Special Administrative Region\": \"Hong Kong\"}\n",
    "    energy['Country'].replace(country_rename, inplace=True)\n",
    "\n",
    "    GDP = pd.read_csv('world_bank.csv',header=0, \n",
    "                      skiprows=4,usecols=[0, 50, 51, 52, 53, 54, 55, 56, 57, 58, 59],\n",
    "                      na_values=None, keep_default_na=True, na_filter=True)\n",
    "    country_replace = {\"Korea, Rep.\": \"South Korea\", \n",
    "                        \"Iran, Islamic Rep.\": \"Iran\",\n",
    "                        \"Hong Kong SAR, China\": \"Hong Kong\"}\n",
    "\n",
    "    GDP['Country Name'].replace(country_replace,inplace=True)\n",
    "    GDP.rename(columns = {'Country Name': 'Country'},inplace=True)\n",
    "\n",
    "    ScimEn = pd.read_excel('scimagojr-3.xlsx', sheet_name='Sheet1')\n",
    "\n",
    "    df_merged = reduce(lambda  left,right: pd.merge(left,right,on=['Country'],how='inner'), [ScimEn, energy, GDP])\n",
    "    df_merged = df_merged[:15]\n",
    "    df_merged.drop('Country',axis=1,inplace=True)\n",
    "    return df_merged\n",
    "\n",
    "print(answer_one())"
   ]
  },
  {
   "cell_type": "markdown",
   "metadata": {},
   "source": [
    "### Question 2 (6.6%)\n",
    "The previous question joined three datasets then reduced this to just the top 15 entries. When you joined the datasets, but before you reduced this to the top 15 items, how many entries did you lose?\n",
    "\n",
    "*This function should return a single number.*"
   ]
  },
  {
   "cell_type": "code",
   "execution_count": null,
   "metadata": {},
   "outputs": [],
   "source": [
    "%%HTML\n",
    "<svg width=\"800\" height=\"300\">\n",
    "  <circle cx=\"150\" cy=\"180\" r=\"80\" fill-opacity=\"0.2\" stroke=\"black\" stroke-width=\"2\" fill=\"blue\" />\n",
    "  <circle cx=\"200\" cy=\"100\" r=\"80\" fill-opacity=\"0.2\" stroke=\"black\" stroke-width=\"2\" fill=\"red\" />\n",
    "  <circle cx=\"100\" cy=\"100\" r=\"80\" fill-opacity=\"0.2\" stroke=\"black\" stroke-width=\"2\" fill=\"green\" />\n",
    "  <line x1=\"150\" y1=\"125\" x2=\"300\" y2=\"150\" stroke=\"black\" stroke-width=\"2\" fill=\"black\" stroke-dasharray=\"5,3\"/>\n",
    "  <text  x=\"300\" y=\"165\" font-family=\"Verdana\" font-size=\"35\">Everything but this!</text>\n",
    "</svg>"
   ]
  },
  {
   "cell_type": "code",
   "execution_count": null,
   "metadata": {
    "umich_part_id": "010",
    "umich_partlist_id": "003"
   },
   "outputs": [],
   "source": [
    "def answer_two():\n",
    "    return \"ANSWER\""
   ]
  },
  {
   "cell_type": "markdown",
   "metadata": {},
   "source": [
    "## Answer the following questions in the context of only the top 15 countries by Scimagojr Rank (aka the DataFrame returned by `answer_one()`)"
   ]
  },
  {
   "cell_type": "markdown",
   "metadata": {},
   "source": [
    "### Question 3 (6.6%)\n",
    "What is the average GDP over the last 10 years for each country? (exclude missing values from this calculation.)\n",
    "\n",
    "*This function should return a Series named `avgGDP` with 15 countries and their average GDP sorted in descending order.*"
   ]
  },
  {
   "cell_type": "code",
   "execution_count": null,
   "metadata": {
    "scrolled": true,
    "umich_part_id": "011",
    "umich_partlist_id": "003"
   },
   "outputs": [],
   "source": [
    "def answer_three():\n",
    "    Top15 = answer_one()\n",
    "    return \"ANSWER\""
   ]
  },
  {
   "cell_type": "markdown",
   "metadata": {},
   "source": [
    "### Question 4 (6.6%)\n",
    "By how much had the GDP changed over the 10 year span for the country with the 6th largest average GDP?\n",
    "\n",
    "*This function should return a single number.*"
   ]
  },
  {
   "cell_type": "code",
   "execution_count": null,
   "metadata": {
    "scrolled": true,
    "umich_part_id": "012",
    "umich_partlist_id": "003"
   },
   "outputs": [],
   "source": [
    "def answer_four():\n",
    "    Top15 = answer_one()\n",
    "    return \"ANSWER\""
   ]
  },
  {
   "cell_type": "markdown",
   "metadata": {},
   "source": [
    "### Question 5 (6.6%)\n",
    "What is the mean `Energy Supply per Capita`?\n",
    "\n",
    "*This function should return a single number.*"
   ]
  },
  {
   "cell_type": "code",
   "execution_count": null,
   "metadata": {
    "umich_part_id": "013",
    "umich_partlist_id": "003"
   },
   "outputs": [],
   "source": [
    "def answer_five():\n",
    "    Top15 = answer_one()\n",
    "    return \"ANSWER\""
   ]
  },
  {
   "cell_type": "markdown",
   "metadata": {},
   "source": [
    "### Question 6 (6.6%)\n",
    "What country has the maximum % Renewable and what is the percentage?\n",
    "\n",
    "*This function should return a tuple with the name of the country and the percentage.*"
   ]
  },
  {
   "cell_type": "code",
   "execution_count": null,
   "metadata": {
    "umich_part_id": "014",
    "umich_partlist_id": "003"
   },
   "outputs": [],
   "source": [
    "def answer_six():\n",
    "    Top15 = answer_one()\n",
    "    return \"ANSWER\""
   ]
  },
  {
   "cell_type": "markdown",
   "metadata": {},
   "source": [
    "### Question 7 (6.6%)\n",
    "Create a new column that is the ratio of Self-Citations to Total Citations. \n",
    "What is the maximum value for this new column, and what country has the highest ratio?\n",
    "\n",
    "*This function should return a tuple with the name of the country and the ratio.*"
   ]
  },
  {
   "cell_type": "code",
   "execution_count": null,
   "metadata": {
    "umich_part_id": "015",
    "umich_partlist_id": "003"
   },
   "outputs": [],
   "source": [
    "def answer_seven():\n",
    "    Top15 = answer_one()\n",
    "    return \"ANSWER\""
   ]
  },
  {
   "cell_type": "markdown",
   "metadata": {},
   "source": [
    "### Question 8 (6.6%)\n",
    "\n",
    "Create a column that estimates the population using Energy Supply and Energy Supply per capita. \n",
    "What is the third most populous country according to this estimate?\n",
    "\n",
    "*This function should return a single string value.*"
   ]
  },
  {
   "cell_type": "code",
   "execution_count": null,
   "metadata": {
    "umich_part_id": "016",
    "umich_partlist_id": "003"
   },
   "outputs": [],
   "source": [
    "def answer_eight():\n",
    "    Top15 = answer_one()\n",
    "    return \"ANSWER\""
   ]
  },
  {
   "cell_type": "markdown",
   "metadata": {},
   "source": [
    "### Question 9 (6.6%)\n",
    "Create a column that estimates the number of citable documents per person. \n",
    "What is the correlation between the number of citable documents per capita and the energy supply per capita? Use the `.corr()` method, (Pearson's correlation).\n",
    "\n",
    "*This function should return a single number.*\n",
    "\n",
    "*(Optional: Use the built-in function `plot9()` to visualize the relationship between Energy Supply per Capita vs. Citable docs per Capita)*"
   ]
  },
  {
   "cell_type": "code",
   "execution_count": null,
   "metadata": {
    "umich_part_id": "017",
    "umich_partlist_id": "003"
   },
   "outputs": [],
   "source": [
    "def answer_nine():\n",
    "    Top15 = answer_one()\n",
    "    return \"ANSWER\""
   ]
  },
  {
   "cell_type": "code",
   "execution_count": null,
   "metadata": {},
   "outputs": [],
   "source": [
    "def plot9():\n",
    "    import matplotlib as plt\n",
    "    %matplotlib inline\n",
    "    \n",
    "    Top15 = answer_one()\n",
    "    Top15['PopEst'] = Top15['Energy Supply'] / Top15['Energy Supply per Capita']\n",
    "    Top15['Citable docs per Capita'] = Top15['Citable documents'] / Top15['PopEst']\n",
    "    Top15.plot(x='Citable docs per Capita', y='Energy Supply per Capita', kind='scatter', xlim=[0, 0.0006])"
   ]
  },
  {
   "cell_type": "code",
   "execution_count": null,
   "metadata": {},
   "outputs": [],
   "source": [
    "#plot9() # Be sure to comment out plot9() before submitting the assignment!"
   ]
  },
  {
   "cell_type": "markdown",
   "metadata": {},
   "source": [
    "### Question 10 (6.6%)\n",
    "Create a new column with a 1 if the country's % Renewable value is at or above the median for all countries in the top 15, and a 0 if the country's % Renewable value is below the median.\n",
    "\n",
    "*This function should return a series named `HighRenew` whose index is the country name sorted in ascending order of rank.*"
   ]
  },
  {
   "cell_type": "code",
   "execution_count": null,
   "metadata": {
    "umich_part_id": "018",
    "umich_partlist_id": "003"
   },
   "outputs": [],
   "source": [
    "def answer_ten():\n",
    "    Top15 = answer_one()\n",
    "    return \"ANSWER\""
   ]
  },
  {
   "cell_type": "markdown",
   "metadata": {},
   "source": [
    "### Question 11 (6.6%)\n",
    "Use the following dictionary to group the Countries by Continent, then create a dateframe that displays the sample size (the number of countries in each continent bin), and the sum, mean, and std deviation for the estimated population of each country.\n",
    "\n",
    "```python\n",
    "ContinentDict  = {'China':'Asia', \n",
    "                  'United States':'North America', \n",
    "                  'Japan':'Asia', \n",
    "                  'United Kingdom':'Europe', \n",
    "                  'Russian Federation':'Europe', \n",
    "                  'Canada':'North America', \n",
    "                  'Germany':'Europe', \n",
    "                  'India':'Asia',\n",
    "                  'France':'Europe', \n",
    "                  'South Korea':'Asia', \n",
    "                  'Italy':'Europe', \n",
    "                  'Spain':'Europe', \n",
    "                  'Iran':'Asia',\n",
    "                  'Australia':'Australia', \n",
    "                  'Brazil':'South America'}\n",
    "```\n",
    "\n",
    "*This function should return a DataFrame with index named Continent `['Asia', 'Australia', 'Europe', 'North America', 'South America']` and columns `['size', 'sum', 'mean', 'std']`*"
   ]
  },
  {
   "cell_type": "code",
   "execution_count": null,
   "metadata": {
    "umich_part_id": "019",
    "umich_partlist_id": "003"
   },
   "outputs": [],
   "source": [
    "def answer_eleven():\n",
    "    Top15 = answer_one()\n",
    "    return \"ANSWER\""
   ]
  },
  {
   "cell_type": "markdown",
   "metadata": {},
   "source": [
    "### Question 12 (6.6%)\n",
    "Cut % Renewable into 5 bins. Group Top15 by the Continent, as well as these new % Renewable bins. How many countries are in each of these groups?\n",
    "\n",
    "*This function should return a __Series__ with a MultiIndex of `Continent`, then the bins for `% Renewable`. Do not include groups with no countries.*"
   ]
  },
  {
   "cell_type": "code",
   "execution_count": null,
   "metadata": {
    "scrolled": true
   },
   "outputs": [],
   "source": [
    "def answer_twelve():\n",
    "    Top15 = answer_one()\n",
    "    return \"ANSWER\""
   ]
  },
  {
   "cell_type": "markdown",
   "metadata": {},
   "source": [
    "### Question 13 (6.6%)\n",
    "Convert the Population Estimate series to a string with thousands separator (using commas). Do not round the results.\n",
    "\n",
    "e.g. 317615384.61538464 -> 317,615,384.61538464\n",
    "\n",
    "*This function should return a Series `PopEst` whose index is the country name and whose values are the population estimate string.*"
   ]
  },
  {
   "cell_type": "code",
   "execution_count": null,
   "metadata": {
    "scrolled": true,
    "umich_part_id": "020",
    "umich_partlist_id": "003"
   },
   "outputs": [],
   "source": [
    "def answer_thirteen():\n",
    "    Top15 = answer_one()\n",
    "    return \"ANSWER\""
   ]
  },
  {
   "cell_type": "markdown",
   "metadata": {},
   "source": [
    "### Optional\n",
    "\n",
    "Use the built in function `plot_optional()` to see an example visualization."
   ]
  },
  {
   "cell_type": "code",
   "execution_count": null,
   "metadata": {
    "scrolled": true
   },
   "outputs": [],
   "source": [
    "def plot_optional():\n",
    "    import matplotlib as plt\n",
    "    %matplotlib inline\n",
    "    Top15 = answer_one()\n",
    "    ax = Top15.plot(x='Rank', y='% Renewable', kind='scatter', \n",
    "                    c=['#e41a1c','#377eb8','#e41a1c','#4daf4a','#4daf4a','#377eb8','#4daf4a','#e41a1c',\n",
    "                       '#4daf4a','#e41a1c','#4daf4a','#4daf4a','#e41a1c','#dede00','#ff7f00'], \n",
    "                    xticks=range(1,16), s=6*Top15['2014']/10**10, alpha=.75, figsize=[16,6]);\n",
    "\n",
    "    for i, txt in enumerate(Top15.index):\n",
    "        ax.annotate(txt, [Top15['Rank'][i], Top15['% Renewable'][i]], ha='center')\n",
    "\n",
    "    print(\"This is an example of a visualization that can be created to help understand the data. \\\n",
    "This is a bubble chart showing % Renewable vs. Rank. The size of the bubble corresponds to the countries' \\\n",
    "2014 GDP, and the color corresponds to the continent.\")"
   ]
  },
  {
   "cell_type": "code",
   "execution_count": null,
   "metadata": {},
   "outputs": [],
   "source": [
    "#plot_optional() # Be sure to comment out plot_optional() before submitting the assignment!"
   ]
  }
 ],
 "metadata": {
  "anaconda-cloud": {},
  "coursera": {
   "course_slug": "python-data-analysis",
   "graded_item_id": "zAr06",
   "launcher_item_id": "KSSjT",
   "part_id": "SL3fU"
  },
  "kernelspec": {
   "display_name": "Python 3",
   "language": "python",
   "name": "python3"
  },
  "language_info": {
   "codemirror_mode": {
    "name": "ipython",
    "version": 3
   },
   "file_extension": ".py",
   "mimetype": "text/x-python",
   "name": "python",
   "nbconvert_exporter": "python",
   "pygments_lexer": "ipython3",
   "version": "3.6.7"
  },
  "umich": {
   "id": "Assignment 3",
   "version": "1.5"
  },
  "widgets": {
   "state": {},
   "version": "1.1.2"
  }
 },
 "nbformat": 4,
 "nbformat_minor": 1
}
